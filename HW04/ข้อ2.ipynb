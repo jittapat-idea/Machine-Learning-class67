{
 "cells": [
  {
   "cell_type": "markdown",
   "metadata": {},
   "source": [
    "## 2.เขียนโปรแกรมแสดงความสัมพันธ์ระหว่าง complexity ของ model และ etrain, etest ของ ridge regression (Lecture หน้าที่ 44)"
   ]
  },
  {
   "cell_type": "code",
   "execution_count": 213,
   "metadata": {},
   "outputs": [],
   "source": [
    "import numpy as np\n",
    "import matplotlib.pyplot as plt\n",
    "import pandas as pd\n",
    "\n",
    "from sklearn.linear_model import Ridge\n",
    "from sklearn.metrics import mean_squared_error\n",
    "from sklearn.model_selection import train_test_split\n",
    "\n"
   ]
  },
  {
   "cell_type": "markdown",
   "metadata": {},
   "source": [
    "### Step 1: Generate synthetic data\n"
   ]
  },
  {
   "cell_type": "code",
   "execution_count": 214,
   "metadata": {},
   "outputs": [
    {
     "data": {
      "text/html": [
       "<div>\n",
       "<style scoped>\n",
       "    .dataframe tbody tr th:only-of-type {\n",
       "        vertical-align: middle;\n",
       "    }\n",
       "\n",
       "    .dataframe tbody tr th {\n",
       "        vertical-align: top;\n",
       "    }\n",
       "\n",
       "    .dataframe thead th {\n",
       "        text-align: right;\n",
       "    }\n",
       "</style>\n",
       "<table border=\"1\" class=\"dataframe\">\n",
       "  <thead>\n",
       "    <tr style=\"text-align: right;\">\n",
       "      <th></th>\n",
       "      <th>Height</th>\n",
       "      <th>Weight</th>\n",
       "    </tr>\n",
       "  </thead>\n",
       "  <tbody>\n",
       "    <tr>\n",
       "      <th>0</th>\n",
       "      <td>187.571423</td>\n",
       "      <td>109.720985</td>\n",
       "    </tr>\n",
       "    <tr>\n",
       "      <th>1</th>\n",
       "      <td>174.706036</td>\n",
       "      <td>73.622732</td>\n",
       "    </tr>\n",
       "    <tr>\n",
       "      <th>2</th>\n",
       "      <td>188.239668</td>\n",
       "      <td>96.497550</td>\n",
       "    </tr>\n",
       "    <tr>\n",
       "      <th>3</th>\n",
       "      <td>182.196685</td>\n",
       "      <td>99.809504</td>\n",
       "    </tr>\n",
       "    <tr>\n",
       "      <th>4</th>\n",
       "      <td>177.499762</td>\n",
       "      <td>93.598619</td>\n",
       "    </tr>\n",
       "    <tr>\n",
       "      <th>...</th>\n",
       "      <td>...</td>\n",
       "      <td>...</td>\n",
       "    </tr>\n",
       "    <tr>\n",
       "      <th>95</th>\n",
       "      <td>168.078537</td>\n",
       "      <td>62.041159</td>\n",
       "    </tr>\n",
       "    <tr>\n",
       "      <th>96</th>\n",
       "      <td>170.350573</td>\n",
       "      <td>77.504315</td>\n",
       "    </tr>\n",
       "    <tr>\n",
       "      <th>97</th>\n",
       "      <td>162.224700</td>\n",
       "      <td>58.275377</td>\n",
       "    </tr>\n",
       "    <tr>\n",
       "      <th>98</th>\n",
       "      <td>175.346978</td>\n",
       "      <td>74.322166</td>\n",
       "    </tr>\n",
       "    <tr>\n",
       "      <th>99</th>\n",
       "      <td>157.338384</td>\n",
       "      <td>51.550324</td>\n",
       "    </tr>\n",
       "  </tbody>\n",
       "</table>\n",
       "<p>100 rows × 2 columns</p>\n",
       "</div>"
      ],
      "text/plain": [
       "        Height      Weight\n",
       "0   187.571423  109.720985\n",
       "1   174.706036   73.622732\n",
       "2   188.239668   96.497550\n",
       "3   182.196685   99.809504\n",
       "4   177.499762   93.598619\n",
       "..         ...         ...\n",
       "95  168.078537   62.041159\n",
       "96  170.350573   77.504315\n",
       "97  162.224700   58.275377\n",
       "98  175.346978   74.322166\n",
       "99  157.338384   51.550324\n",
       "\n",
       "[100 rows x 2 columns]"
      ]
     },
     "execution_count": 214,
     "metadata": {},
     "output_type": "execute_result"
    }
   ],
   "source": [
    "data = pd.read_csv('/Users/jittapat.a/Documents/code/ปี4/ML/HW04/HeightWeight100.csv')\n",
    "\n",
    "X = data[['Height']].values\n",
    "y = data[['Weight']].values\n",
    "\n",
    "data"
   ]
  },
  {
   "cell_type": "code",
   "execution_count": 215,
   "metadata": {},
   "outputs": [],
   "source": [
    "# # ปรับข้อมูลด้วย StandardScaler\n",
    "# scaler_X = StandardScaler()\n",
    "# scaler_y = StandardScaler()\n",
    "\n",
    "# X_normalized = scaler_X.fit_transform(X)\n",
    "# y_normalized = scaler_y.fit_transform(y)\n",
    "\n",
    "# print(X_normalized)"
   ]
  },
  {
   "cell_type": "code",
   "execution_count": 216,
   "metadata": {},
   "outputs": [
    {
     "data": {
      "text/plain": [
       "Text(0, 0.5, 'Weight')"
      ]
     },
     "execution_count": 216,
     "metadata": {},
     "output_type": "execute_result"
    },
    {
     "data": {
      "image/png": "[encoded data removed]",
      "text/plain": [
       "<Figure size 640x480 with 1 Axes>"
      ]
     },
     "metadata": {},
     "output_type": "display_data"
    }
   ],
   "source": [
    "plt.title(\"HeightWeight20\")\n",
    "plt.scatter(X, y, label='Data')\n",
    "plt.xlabel(\"Height\")\n",
    "plt.ylabel(\"Weight\")"
   ]
  },
  {
   "cell_type": "code",
   "execution_count": 217,
   "metadata": {},
   "outputs": [
    {
     "name": "stdout",
     "output_type": "stream",
     "text": [
      "ค่าสัมประสิทธิ์(ค่าความชัน) =  1.3412644827306561\n",
      "bias(ค่าจุดตัดแกน y) =  -152.7624813623435\n",
      "y ทำนาย =  [[ 98.82040655]\n",
      " [ 81.56452005]\n",
      " [ 99.71669916]\n",
      " [ 91.61146123]\n",
      " [ 85.31164443]\n",
      " [ 76.35588507]\n",
      " [ 81.57534418]\n",
      " [ 80.08804685]\n",
      " [ 75.55846618]\n",
      " [ 63.42185022]\n",
      " [ 89.78678612]\n",
      " [ 91.30425788]\n",
      " [ 67.88421208]\n",
      " [ 83.27189836]\n",
      " [ 83.13788176]\n",
      " [ 77.69341306]\n",
      " [ 93.95309321]\n",
      " [ 65.18600547]\n",
      " [ 84.48809543]\n",
      " [ 78.68270064]\n",
      " [ 78.6113121 ]\n",
      " [ 83.80462085]\n",
      " [ 72.59516107]\n",
      " [103.45011596]\n",
      " [ 78.53686012]\n",
      " [ 79.39141272]\n",
      " [ 82.61288925]\n",
      " [ 95.25629033]\n",
      " [ 76.92900148]\n",
      " [ 80.59191377]\n",
      " [ 81.00650641]\n",
      " [ 99.45676707]\n",
      " [ 90.92068803]\n",
      " [ 82.92130685]\n",
      " [ 84.27395169]\n",
      " [ 87.08023296]\n",
      " [ 82.56703276]\n",
      " [ 76.15320566]\n",
      " [ 71.43065727]\n",
      " [ 66.30978378]\n",
      " [ 78.81328843]\n",
      " [ 93.17330578]\n",
      " [ 69.60130101]\n",
      " [ 72.39431382]\n",
      " [ 77.2324776 ]\n",
      " [ 86.07133073]\n",
      " [ 79.7586795 ]\n",
      " [ 93.11635475]\n",
      " [ 82.920273  ]\n",
      " [ 95.49312048]\n",
      " [ 55.43025549]\n",
      " [ 65.63888866]\n",
      " [ 61.94912318]\n",
      " [ 56.00132151]\n",
      " [ 50.62085821]\n",
      " [ 69.67297497]\n",
      " [ 61.42229796]\n",
      " [ 61.53865064]\n",
      " [ 61.76080964]\n",
      " [ 78.71457458]\n",
      " [ 69.41544843]\n",
      " [ 74.72286083]\n",
      " [ 71.25088639]\n",
      " [ 57.34081016]\n",
      " [ 60.94169406]\n",
      " [ 69.25151815]\n",
      " [ 57.86708907]\n",
      " [ 68.02110341]\n",
      " [ 65.267856  ]\n",
      " [ 79.59020636]\n",
      " [ 70.78820487]\n",
      " [ 67.45467494]\n",
      " [ 53.8733716 ]\n",
      " [ 54.15715044]\n",
      " [ 70.0223863 ]\n",
      " [ 72.94535101]\n",
      " [ 56.67435394]\n",
      " [ 66.95929138]\n",
      " [ 42.70592908]\n",
      " [ 58.65067134]\n",
      " [ 53.25513345]\n",
      " [ 53.15634248]\n",
      " [ 85.26638708]\n",
      " [ 71.51041087]\n",
      " [ 48.39963142]\n",
      " [ 79.04062122]\n",
      " [ 63.06823537]\n",
      " [ 70.75926869]\n",
      " [ 50.07476064]\n",
      " [ 54.90001809]\n",
      " [ 62.47817798]\n",
      " [ 60.628881  ]\n",
      " [ 58.72500731]\n",
      " [ 51.74990796]\n",
      " [ 48.57413341]\n",
      " [ 72.67528995]\n",
      " [ 75.72269155]\n",
      " [ 64.82374724]\n",
      " [ 82.42419185]\n",
      " [ 58.26990554]]\n",
      "MSE = 32.77246203498644\n"
     ]
    }
   ],
   "source": [
    "# จำนวนข้อมูล\n",
    "n = np.size(X)\n",
    "\n",
    "# คำนวณค่าเฉลี่ยของ x และ y\n",
    "m_x = np.mean(X)\n",
    "m_y = np.mean(y)\n",
    "\n",
    "# คำนวณ cross-deviation และ deviation เกี่ยวกับ x\n",
    "SS_xy = np.sum(y * X) - n * m_y * m_x\n",
    "SS_xx = np.sum(X * X) - n * m_x * m_x\n",
    "\n",
    "# คำนวณค่าสัมประสิทธิ์ (coefficients)\n",
    "w1 = SS_xy / SS_xx #ค่าความชัน\n",
    "w0 = m_y - w1 * m_x#ค่าจุดตัดแกน y\n",
    "\n",
    "print(\"ค่าสัมประสิทธิ์(ค่าความชัน) = \", w1)\n",
    "print(\"bias(ค่าจุดตัดแกน y) = \", w0)\n",
    "\n",
    "# คำนวณค่าที่ทำนาย (predicted values)\n",
    "Y_pred = w0 + w1 * X\n",
    "print(\"y ทำนาย = \", Y_pred)\n",
    "\n",
    "# คำนวณค่า cost function โดยใช้ Mean Squared Error (MSE) วัดค่าเสียหายระหว่างค่าที่ทำนายได้ y ทำนาย กับ y จริง\n",
    "mse = np.mean((y - Y_pred) ** 2)\n",
    "print(\"MSE =\", mse)"
   ]
  },
  {
   "cell_type": "code",
   "execution_count": 218,
   "metadata": {},
   "outputs": [
    {
     "data": {
      "text/plain": [
       "[<matplotlib.lines.Line2D at 0x11ee2b8f0>]"
      ]
     },
     "execution_count": 218,
     "metadata": {},
     "output_type": "execute_result"
    },
    {
     "data": {
      "image/png": "[encoded data removed]",
      "text/plain": [
       "<Figure size 640x480 with 1 Axes>"
      ]
     },
     "metadata": {},
     "output_type": "display_data"
    }
   ],
   "source": [
    "plt.title(\"HeightWeight20\")\n",
    "plt.scatter(X, y, label='Data')\n",
    "plt.xlabel(\"Height\")\n",
    "plt.ylabel(\"Weight\")\n",
    "\n",
    "\n",
    "plt.plot(X, Y_pred, color='green', label='linear regression')"
   ]
  },
  {
   "cell_type": "markdown",
   "metadata": {},
   "source": [
    "## แบ่งข้อมูลเป็น train set และ test set (80:20)"
   ]
  },
  {
   "cell_type": "code",
   "execution_count": 219,
   "metadata": {},
   "outputs": [],
   "source": [
    "train, test = train_test_split(data, test_size=0.2, random_state=1)"
   ]
  },
  {
   "cell_type": "markdown",
   "metadata": {},
   "source": [
    "## เตรียมข้อมูล train"
   ]
  },
  {
   "cell_type": "code",
   "execution_count": 220,
   "metadata": {},
   "outputs": [],
   "source": [
    "predictors = [\"Height\"]\n",
    "target = \"Weight\"\n",
    "\n",
    "X_train = train[predictors].copy()\n",
    "y_train = train[[target]].copy()"
   ]
  },
  {
   "cell_type": "code",
   "execution_count": 221,
   "metadata": {},
   "outputs": [
    {
     "data": {
      "text/html": [
       "<div>\n",
       "<style scoped>\n",
       "    .dataframe tbody tr th:only-of-type {\n",
       "        vertical-align: middle;\n",
       "    }\n",
       "\n",
       "    .dataframe tbody tr th {\n",
       "        vertical-align: top;\n",
       "    }\n",
       "\n",
       "    .dataframe thead th {\n",
       "        text-align: right;\n",
       "    }\n",
       "</style>\n",
       "<table border=\"1\" class=\"dataframe\">\n",
       "  <thead>\n",
       "    <tr style=\"text-align: right;\">\n",
       "      <th></th>\n",
       "      <th>Height</th>\n",
       "    </tr>\n",
       "  </thead>\n",
       "  <tbody>\n",
       "    <tr>\n",
       "      <th>2</th>\n",
       "      <td>188.239668</td>\n",
       "    </tr>\n",
       "    <tr>\n",
       "      <th>73</th>\n",
       "      <td>154.272058</td>\n",
       "    </tr>\n",
       "    <tr>\n",
       "      <th>97</th>\n",
       "      <td>162.224700</td>\n",
       "    </tr>\n",
       "    <tr>\n",
       "      <th>62</th>\n",
       "      <td>167.016551</td>\n",
       "    </tr>\n",
       "    <tr>\n",
       "      <th>19</th>\n",
       "      <td>172.557452</td>\n",
       "    </tr>\n",
       "    <tr>\n",
       "      <th>...</th>\n",
       "      <td>...</td>\n",
       "    </tr>\n",
       "    <tr>\n",
       "      <th>75</th>\n",
       "      <td>168.279885</td>\n",
       "    </tr>\n",
       "    <tr>\n",
       "      <th>9</th>\n",
       "      <td>161.179495</td>\n",
       "    </tr>\n",
       "    <tr>\n",
       "      <th>72</th>\n",
       "      <td>154.060482</td>\n",
       "    </tr>\n",
       "    <tr>\n",
       "      <th>12</th>\n",
       "      <td>164.506476</td>\n",
       "    </tr>\n",
       "    <tr>\n",
       "      <th>37</th>\n",
       "      <td>170.671549</td>\n",
       "    </tr>\n",
       "  </tbody>\n",
       "</table>\n",
       "<p>80 rows × 1 columns</p>\n",
       "</div>"
      ],
      "text/plain": [
       "        Height\n",
       "2   188.239668\n",
       "73  154.272058\n",
       "97  162.224700\n",
       "62  167.016551\n",
       "19  172.557452\n",
       "..         ...\n",
       "75  168.279885\n",
       "9   161.179495\n",
       "72  154.060482\n",
       "12  164.506476\n",
       "37  170.671549\n",
       "\n",
       "[80 rows x 1 columns]"
      ]
     },
     "execution_count": 221,
     "metadata": {},
     "output_type": "execute_result"
    }
   ],
   "source": [
    "X_train"
   ]
  },
  {
   "cell_type": "code",
   "execution_count": 222,
   "metadata": {},
   "outputs": [
    {
     "data": {
      "text/html": [
       "<div>\n",
       "<style scoped>\n",
       "    .dataframe tbody tr th:only-of-type {\n",
       "        vertical-align: middle;\n",
       "    }\n",
       "\n",
       "    .dataframe tbody tr th {\n",
       "        vertical-align: top;\n",
       "    }\n",
       "\n",
       "    .dataframe thead th {\n",
       "        text-align: right;\n",
       "    }\n",
       "</style>\n",
       "<table border=\"1\" class=\"dataframe\">\n",
       "  <thead>\n",
       "    <tr style=\"text-align: right;\">\n",
       "      <th></th>\n",
       "      <th>Weight</th>\n",
       "    </tr>\n",
       "  </thead>\n",
       "  <tbody>\n",
       "    <tr>\n",
       "      <th>2</th>\n",
       "      <td>96.497550</td>\n",
       "    </tr>\n",
       "    <tr>\n",
       "      <th>73</th>\n",
       "      <td>54.851293</td>\n",
       "    </tr>\n",
       "    <tr>\n",
       "      <th>97</th>\n",
       "      <td>58.275377</td>\n",
       "    </tr>\n",
       "    <tr>\n",
       "      <th>62</th>\n",
       "      <td>69.075089</td>\n",
       "    </tr>\n",
       "    <tr>\n",
       "      <th>19</th>\n",
       "      <td>82.747268</td>\n",
       "    </tr>\n",
       "    <tr>\n",
       "      <th>...</th>\n",
       "      <td>...</td>\n",
       "    </tr>\n",
       "    <tr>\n",
       "      <th>75</th>\n",
       "      <td>56.254442</td>\n",
       "    </tr>\n",
       "    <tr>\n",
       "      <th>9</th>\n",
       "      <td>70.941642</td>\n",
       "    </tr>\n",
       "    <tr>\n",
       "      <th>72</th>\n",
       "      <td>55.830051</td>\n",
       "    </tr>\n",
       "    <tr>\n",
       "      <th>12</th>\n",
       "      <td>75.807679</td>\n",
       "    </tr>\n",
       "    <tr>\n",
       "      <th>37</th>\n",
       "      <td>83.375187</td>\n",
       "    </tr>\n",
       "  </tbody>\n",
       "</table>\n",
       "<p>80 rows × 1 columns</p>\n",
       "</div>"
      ],
      "text/plain": [
       "       Weight\n",
       "2   96.497550\n",
       "73  54.851293\n",
       "97  58.275377\n",
       "62  69.075089\n",
       "19  82.747268\n",
       "..        ...\n",
       "75  56.254442\n",
       "9   70.941642\n",
       "72  55.830051\n",
       "12  75.807679\n",
       "37  83.375187\n",
       "\n",
       "[80 rows x 1 columns]"
      ]
     },
     "execution_count": 222,
     "metadata": {},
     "output_type": "execute_result"
    }
   ],
   "source": [
    "y_train"
   ]
  },
  {
   "cell_type": "code",
   "execution_count": 223,
   "metadata": {},
   "outputs": [
    {
     "name": "stdout",
     "output_type": "stream",
     "text": [
      "X mean =  Height    169.089949\n",
      "dtype: float64\n",
      "X std =  Height    9.496221\n",
      "dtype: float64\n"
     ]
    }
   ],
   "source": [
    "x_mean = X_train.mean()\n",
    "x_std = X_train.std()\n",
    "\n",
    "print(\"X mean = \",x_mean)\n",
    "print(\"X std = \",x_std)"
   ]
  },
  {
   "cell_type": "code",
   "execution_count": 224,
   "metadata": {},
   "outputs": [
    {
     "data": {
      "text/html": [
       "<div>\n",
       "<style scoped>\n",
       "    .dataframe tbody tr th:only-of-type {\n",
       "        vertical-align: middle;\n",
       "    }\n",
       "\n",
       "    .dataframe tbody tr th {\n",
       "        vertical-align: top;\n",
       "    }\n",
       "\n",
       "    .dataframe thead th {\n",
       "        text-align: right;\n",
       "    }\n",
       "</style>\n",
       "<table border=\"1\" class=\"dataframe\">\n",
       "  <thead>\n",
       "    <tr style=\"text-align: right;\">\n",
       "      <th></th>\n",
       "      <th>Height</th>\n",
       "    </tr>\n",
       "  </thead>\n",
       "  <tbody>\n",
       "    <tr>\n",
       "      <th>2</th>\n",
       "      <td>2.016562</td>\n",
       "    </tr>\n",
       "    <tr>\n",
       "      <th>73</th>\n",
       "      <td>-1.560399</td>\n",
       "    </tr>\n",
       "    <tr>\n",
       "      <th>97</th>\n",
       "      <td>-0.722945</td>\n",
       "    </tr>\n",
       "    <tr>\n",
       "      <th>62</th>\n",
       "      <td>-0.218339</td>\n",
       "    </tr>\n",
       "    <tr>\n",
       "      <th>19</th>\n",
       "      <td>0.365146</td>\n",
       "    </tr>\n",
       "    <tr>\n",
       "      <th>...</th>\n",
       "      <td>...</td>\n",
       "    </tr>\n",
       "    <tr>\n",
       "      <th>75</th>\n",
       "      <td>-0.085304</td>\n",
       "    </tr>\n",
       "    <tr>\n",
       "      <th>9</th>\n",
       "      <td>-0.833011</td>\n",
       "    </tr>\n",
       "    <tr>\n",
       "      <th>72</th>\n",
       "      <td>-1.582679</td>\n",
       "    </tr>\n",
       "    <tr>\n",
       "      <th>12</th>\n",
       "      <td>-0.482663</td>\n",
       "    </tr>\n",
       "    <tr>\n",
       "      <th>37</th>\n",
       "      <td>0.166550</td>\n",
       "    </tr>\n",
       "  </tbody>\n",
       "</table>\n",
       "<p>80 rows × 1 columns</p>\n",
       "</div>"
      ],
      "text/plain": [
       "      Height\n",
       "2   2.016562\n",
       "73 -1.560399\n",
       "97 -0.722945\n",
       "62 -0.218339\n",
       "19  0.365146\n",
       "..       ...\n",
       "75 -0.085304\n",
       "9  -0.833011\n",
       "72 -1.582679\n",
       "12 -0.482663\n",
       "37  0.166550\n",
       "\n",
       "[80 rows x 1 columns]"
      ]
     },
     "execution_count": 224,
     "metadata": {},
     "output_type": "execute_result"
    }
   ],
   "source": [
    "X_train = (X_train - x_mean) / x_std\n",
    "X_train"
   ]
  },
  {
   "cell_type": "code",
   "execution_count": 225,
   "metadata": {},
   "outputs": [
    {
     "data": {
      "text/html": [
       "<div>\n",
       "<style scoped>\n",
       "    .dataframe tbody tr th:only-of-type {\n",
       "        vertical-align: middle;\n",
       "    }\n",
       "\n",
       "    .dataframe tbody tr th {\n",
       "        vertical-align: top;\n",
       "    }\n",
       "\n",
       "    .dataframe thead th {\n",
       "        text-align: right;\n",
       "    }\n",
       "</style>\n",
       "<table border=\"1\" class=\"dataframe\">\n",
       "  <thead>\n",
       "    <tr style=\"text-align: right;\">\n",
       "      <th></th>\n",
       "      <th>intercept</th>\n",
       "      <th>Height</th>\n",
       "    </tr>\n",
       "  </thead>\n",
       "  <tbody>\n",
       "    <tr>\n",
       "      <th>2</th>\n",
       "      <td>1</td>\n",
       "      <td>2.016562</td>\n",
       "    </tr>\n",
       "    <tr>\n",
       "      <th>73</th>\n",
       "      <td>1</td>\n",
       "      <td>-1.560399</td>\n",
       "    </tr>\n",
       "    <tr>\n",
       "      <th>97</th>\n",
       "      <td>1</td>\n",
       "      <td>-0.722945</td>\n",
       "    </tr>\n",
       "    <tr>\n",
       "      <th>62</th>\n",
       "      <td>1</td>\n",
       "      <td>-0.218339</td>\n",
       "    </tr>\n",
       "    <tr>\n",
       "      <th>19</th>\n",
       "      <td>1</td>\n",
       "      <td>0.365146</td>\n",
       "    </tr>\n",
       "    <tr>\n",
       "      <th>...</th>\n",
       "      <td>...</td>\n",
       "      <td>...</td>\n",
       "    </tr>\n",
       "    <tr>\n",
       "      <th>75</th>\n",
       "      <td>1</td>\n",
       "      <td>-0.085304</td>\n",
       "    </tr>\n",
       "    <tr>\n",
       "      <th>9</th>\n",
       "      <td>1</td>\n",
       "      <td>-0.833011</td>\n",
       "    </tr>\n",
       "    <tr>\n",
       "      <th>72</th>\n",
       "      <td>1</td>\n",
       "      <td>-1.582679</td>\n",
       "    </tr>\n",
       "    <tr>\n",
       "      <th>12</th>\n",
       "      <td>1</td>\n",
       "      <td>-0.482663</td>\n",
       "    </tr>\n",
       "    <tr>\n",
       "      <th>37</th>\n",
       "      <td>1</td>\n",
       "      <td>0.166550</td>\n",
       "    </tr>\n",
       "  </tbody>\n",
       "</table>\n",
       "<p>80 rows × 2 columns</p>\n",
       "</div>"
      ],
      "text/plain": [
       "    intercept    Height\n",
       "2           1  2.016562\n",
       "73          1 -1.560399\n",
       "97          1 -0.722945\n",
       "62          1 -0.218339\n",
       "19          1  0.365146\n",
       "..        ...       ...\n",
       "75          1 -0.085304\n",
       "9           1 -0.833011\n",
       "72          1 -1.582679\n",
       "12          1 -0.482663\n",
       "37          1  0.166550\n",
       "\n",
       "[80 rows x 2 columns]"
      ]
     },
     "execution_count": 225,
     "metadata": {},
     "output_type": "execute_result"
    }
   ],
   "source": [
    "X_train[\"intercept\"] = 1\n",
    "X_train = X_train[[\"intercept\"] + predictors]\n",
    "X_train"
   ]
  },
  {
   "cell_type": "code",
   "execution_count": 226,
   "metadata": {},
   "outputs": [
    {
     "data": {
      "text/html": [
       "<div>\n",
       "<style scoped>\n",
       "    .dataframe tbody tr th:only-of-type {\n",
       "        vertical-align: middle;\n",
       "    }\n",
       "\n",
       "    .dataframe tbody tr th {\n",
       "        vertical-align: top;\n",
       "    }\n",
       "\n",
       "    .dataframe thead th {\n",
       "        text-align: right;\n",
       "    }\n",
       "</style>\n",
       "<table border=\"1\" class=\"dataframe\">\n",
       "  <thead>\n",
       "    <tr style=\"text-align: right;\">\n",
       "      <th></th>\n",
       "      <th>2</th>\n",
       "      <th>73</th>\n",
       "      <th>97</th>\n",
       "      <th>62</th>\n",
       "      <th>19</th>\n",
       "      <th>35</th>\n",
       "      <th>94</th>\n",
       "      <th>27</th>\n",
       "      <th>46</th>\n",
       "      <th>38</th>\n",
       "      <th>...</th>\n",
       "      <th>1</th>\n",
       "      <th>16</th>\n",
       "      <th>64</th>\n",
       "      <th>79</th>\n",
       "      <th>5</th>\n",
       "      <th>75</th>\n",
       "      <th>9</th>\n",
       "      <th>72</th>\n",
       "      <th>12</th>\n",
       "      <th>37</th>\n",
       "    </tr>\n",
       "  </thead>\n",
       "  <tbody>\n",
       "    <tr>\n",
       "      <th>intercept</th>\n",
       "      <td>1.000000</td>\n",
       "      <td>1.000000</td>\n",
       "      <td>1.000000</td>\n",
       "      <td>1.000000</td>\n",
       "      <td>1.000000</td>\n",
       "      <td>1.000000</td>\n",
       "      <td>1.000000</td>\n",
       "      <td>1.000000</td>\n",
       "      <td>1.000000</td>\n",
       "      <td>1.000000</td>\n",
       "      <td>...</td>\n",
       "      <td>1.000000</td>\n",
       "      <td>1.000000</td>\n",
       "      <td>1.000000</td>\n",
       "      <td>1.000000</td>\n",
       "      <td>1.000000</td>\n",
       "      <td>1.000000</td>\n",
       "      <td>1.000000</td>\n",
       "      <td>1.000000</td>\n",
       "      <td>1.000000</td>\n",
       "      <td>1.00000</td>\n",
       "    </tr>\n",
       "    <tr>\n",
       "      <th>Height</th>\n",
       "      <td>2.016562</td>\n",
       "      <td>-1.560399</td>\n",
       "      <td>-0.722945</td>\n",
       "      <td>-0.218339</td>\n",
       "      <td>0.365146</td>\n",
       "      <td>1.024451</td>\n",
       "      <td>-1.998731</td>\n",
       "      <td>1.666367</td>\n",
       "      <td>0.449623</td>\n",
       "      <td>-0.204225</td>\n",
       "      <td>...</td>\n",
       "      <td>0.591402</td>\n",
       "      <td>1.564051</td>\n",
       "      <td>-1.027732</td>\n",
       "      <td>-1.207604</td>\n",
       "      <td>0.182463</td>\n",
       "      <td>-0.085304</td>\n",
       "      <td>-0.833011</td>\n",
       "      <td>-1.582679</td>\n",
       "      <td>-0.482663</td>\n",
       "      <td>0.16655</td>\n",
       "    </tr>\n",
       "  </tbody>\n",
       "</table>\n",
       "<p>2 rows × 80 columns</p>\n",
       "</div>"
      ],
      "text/plain": [
       "                 2         73        97        62        19        35  \\\n",
       "intercept  1.000000  1.000000  1.000000  1.000000  1.000000  1.000000   \n",
       "Height     2.016562 -1.560399 -0.722945 -0.218339  0.365146  1.024451   \n",
       "\n",
       "                 94        27        46        38  ...        1         16  \\\n",
       "intercept  1.000000  1.000000  1.000000  1.000000  ...  1.000000  1.000000   \n",
       "Height    -1.998731  1.666367  0.449623 -0.204225  ...  0.591402  1.564051   \n",
       "\n",
       "                 64        79        5         75        9         72  \\\n",
       "intercept  1.000000  1.000000  1.000000  1.000000  1.000000  1.000000   \n",
       "Height    -1.027732 -1.207604  0.182463 -0.085304 -0.833011 -1.582679   \n",
       "\n",
       "                 12       37  \n",
       "intercept  1.000000  1.00000  \n",
       "Height    -0.482663  0.16655  \n",
       "\n",
       "[2 rows x 80 columns]"
      ]
     },
     "execution_count": 226,
     "metadata": {},
     "output_type": "execute_result"
    }
   ],
   "source": [
    "X_train.T"
   ]
  },
  {
   "cell_type": "markdown",
   "metadata": {},
   "source": [
    "## Ridge Regression parameters"
   ]
  },
  {
   "cell_type": "code",
   "execution_count": 227,
   "metadata": {},
   "outputs": [
    {
     "data": {
      "text/plain": [
       "array([[1., 0.],\n",
       "       [0., 1.]])"
      ]
     },
     "execution_count": 227,
     "metadata": {},
     "output_type": "execute_result"
    }
   ],
   "source": [
    "A_Lambda = 2\n",
    "I = np.identity(X_train.shape[1])\n",
    "I\n"
   ]
  },
  {
   "cell_type": "code",
   "execution_count": 228,
   "metadata": {},
   "outputs": [
    {
     "data": {
      "text/plain": [
       "array([[0., 0.],\n",
       "       [0., 2.]])"
      ]
     },
     "execution_count": 228,
     "metadata": {},
     "output_type": "execute_result"
    }
   ],
   "source": [
    "penalty = A_Lambda * I\n",
    "penalty[0][0] = 0\n",
    "penalty"
   ]
  },
  {
   "cell_type": "markdown",
   "metadata": {},
   "source": [
    "## Calculate coefficients"
   ]
  },
  {
   "cell_type": "code",
   "execution_count": 229,
   "metadata": {},
   "outputs": [
    {
     "data": {
      "text/html": [
       "<div>\n",
       "<style scoped>\n",
       "    .dataframe tbody tr th:only-of-type {\n",
       "        vertical-align: middle;\n",
       "    }\n",
       "\n",
       "    .dataframe tbody tr th {\n",
       "        vertical-align: top;\n",
       "    }\n",
       "\n",
       "    .dataframe thead th {\n",
       "        text-align: right;\n",
       "    }\n",
       "</style>\n",
       "<table border=\"1\" class=\"dataframe\">\n",
       "  <thead>\n",
       "    <tr style=\"text-align: right;\">\n",
       "      <th></th>\n",
       "      <th>Weight</th>\n",
       "    </tr>\n",
       "  </thead>\n",
       "  <tbody>\n",
       "    <tr>\n",
       "      <th>intercept</th>\n",
       "      <td>73.791775</td>\n",
       "    </tr>\n",
       "    <tr>\n",
       "      <th>Height</th>\n",
       "      <td>13.021415</td>\n",
       "    </tr>\n",
       "  </tbody>\n",
       "</table>\n",
       "</div>"
      ],
      "text/plain": [
       "              Weight\n",
       "intercept  73.791775\n",
       "Height     13.021415"
      ]
     },
     "execution_count": 229,
     "metadata": {},
     "output_type": "execute_result"
    }
   ],
   "source": [
    "B = np.linalg.inv(X_train.T @ X_train + penalty) @ X_train.T @ y_train\n",
    "B.index = [\"intercept\",\"Height\"]\n",
    "B"
   ]
  },
  {
   "cell_type": "markdown",
   "metadata": {},
   "source": [
    "## ทำนาย และ คำนวณ RMSE"
   ]
  },
  {
   "cell_type": "code",
   "execution_count": 230,
   "metadata": {},
   "outputs": [
    {
     "name": "stdout",
     "output_type": "stream",
     "text": [
      "Train RMSE: 5.541442709552242\n"
     ]
    }
   ],
   "source": [
    "y_train_pred = X_train @ B\n",
    "rmse_train = np.sqrt(mean_squared_error(y_train, y_train_pred))\n",
    "print(f\"Train RMSE: {rmse_train}\")"
   ]
  },
  {
   "cell_type": "markdown",
   "metadata": {},
   "source": [
    "## plot"
   ]
  },
  {
   "cell_type": "code",
   "execution_count": 231,
   "metadata": {},
   "outputs": [
    {
     "data": {
      "text/plain": [
       "<matplotlib.legend.Legend at 0x11e9c7b90>"
      ]
     },
     "execution_count": 231,
     "metadata": {},
     "output_type": "execute_result"
    },
    {
     "data": {
      "image/png": "[encoded data removed]",
      "text/plain": [
       "<Figure size 640x480 with 1 Axes>"
      ]
     },
     "metadata": {},
     "output_type": "display_data"
    }
   ],
   "source": [
    "plt.title(\"Train Data and Prediction\")\n",
    "plt.scatter(train[predictors], y_train, color='blue', label='Training data')\n",
    "plt.xlabel(\"Height\")\n",
    "plt.ylabel(\"Weight\")\n",
    "\n",
    "plt.plot(train[predictors],y_train_pred,color='red', label='Model prediction')\n",
    "plt.legend()"
   ]
  },
  {
   "cell_type": "code",
   "execution_count": 232,
   "metadata": {},
   "outputs": [
    {
     "data": {
      "text/html": [
       "<div>\n",
       "<style scoped>\n",
       "    .dataframe tbody tr th:only-of-type {\n",
       "        vertical-align: middle;\n",
       "    }\n",
       "\n",
       "    .dataframe tbody tr th {\n",
       "        vertical-align: top;\n",
       "    }\n",
       "\n",
       "    .dataframe thead th {\n",
       "        text-align: right;\n",
       "    }\n",
       "</style>\n",
       "<table border=\"1\" class=\"dataframe\">\n",
       "  <thead>\n",
       "    <tr style=\"text-align: right;\">\n",
       "      <th></th>\n",
       "      <th>Height</th>\n",
       "    </tr>\n",
       "  </thead>\n",
       "  <tbody>\n",
       "    <tr>\n",
       "      <th>80</th>\n",
       "      <td>153.599545</td>\n",
       "    </tr>\n",
       "    <tr>\n",
       "      <th>84</th>\n",
       "      <td>149.979453</td>\n",
       "    </tr>\n",
       "    <tr>\n",
       "      <th>33</th>\n",
       "      <td>175.717609</td>\n",
       "    </tr>\n",
       "    <tr>\n",
       "      <th>81</th>\n",
       "      <td>153.525890</td>\n",
       "    </tr>\n",
       "    <tr>\n",
       "      <th>93</th>\n",
       "      <td>152.477302</td>\n",
       "    </tr>\n",
       "    <tr>\n",
       "      <th>17</th>\n",
       "      <td>162.494787</td>\n",
       "    </tr>\n",
       "    <tr>\n",
       "      <th>36</th>\n",
       "      <td>175.453475</td>\n",
       "    </tr>\n",
       "    <tr>\n",
       "      <th>82</th>\n",
       "      <td>177.466019</td>\n",
       "    </tr>\n",
       "    <tr>\n",
       "      <th>69</th>\n",
       "      <td>173.234057</td>\n",
       "    </tr>\n",
       "    <tr>\n",
       "      <th>65</th>\n",
       "      <td>165.525892</td>\n",
       "    </tr>\n",
       "    <tr>\n",
       "      <th>92</th>\n",
       "      <td>157.677693</td>\n",
       "    </tr>\n",
       "    <tr>\n",
       "      <th>39</th>\n",
       "      <td>163.332637</td>\n",
       "    </tr>\n",
       "    <tr>\n",
       "      <th>56</th>\n",
       "      <td>159.688698</td>\n",
       "    </tr>\n",
       "    <tr>\n",
       "      <th>52</th>\n",
       "      <td>160.081481</td>\n",
       "    </tr>\n",
       "    <tr>\n",
       "      <th>51</th>\n",
       "      <td>162.832441</td>\n",
       "    </tr>\n",
       "    <tr>\n",
       "      <th>32</th>\n",
       "      <td>181.681669</td>\n",
       "    </tr>\n",
       "    <tr>\n",
       "      <th>31</th>\n",
       "      <td>188.045871</td>\n",
       "    </tr>\n",
       "    <tr>\n",
       "      <th>44</th>\n",
       "      <td>171.476217</td>\n",
       "    </tr>\n",
       "    <tr>\n",
       "      <th>78</th>\n",
       "      <td>145.734427</td>\n",
       "    </tr>\n",
       "    <tr>\n",
       "      <th>10</th>\n",
       "      <td>180.836271</td>\n",
       "    </tr>\n",
       "  </tbody>\n",
       "</table>\n",
       "</div>"
      ],
      "text/plain": [
       "        Height\n",
       "80  153.599545\n",
       "84  149.979453\n",
       "33  175.717609\n",
       "81  153.525890\n",
       "93  152.477302\n",
       "17  162.494787\n",
       "36  175.453475\n",
       "82  177.466019\n",
       "69  173.234057\n",
       "65  165.525892\n",
       "92  157.677693\n",
       "39  163.332637\n",
       "56  159.688698\n",
       "52  160.081481\n",
       "51  162.832441\n",
       "32  181.681669\n",
       "31  188.045871\n",
       "44  171.476217\n",
       "78  145.734427\n",
       "10  180.836271"
      ]
     },
     "execution_count": 232,
     "metadata": {},
     "output_type": "execute_result"
    }
   ],
   "source": [
    "test_x = test[predictors]\n",
    "test_x"
   ]
  },
  {
   "cell_type": "code",
   "execution_count": 233,
   "metadata": {},
   "outputs": [
    {
     "data": {
      "text/html": [
       "<div>\n",
       "<style scoped>\n",
       "    .dataframe tbody tr th:only-of-type {\n",
       "        vertical-align: middle;\n",
       "    }\n",
       "\n",
       "    .dataframe tbody tr th {\n",
       "        vertical-align: top;\n",
       "    }\n",
       "\n",
       "    .dataframe thead th {\n",
       "        text-align: right;\n",
       "    }\n",
       "</style>\n",
       "<table border=\"1\" class=\"dataframe\">\n",
       "  <thead>\n",
       "    <tr style=\"text-align: right;\">\n",
       "      <th></th>\n",
       "      <th>Height</th>\n",
       "    </tr>\n",
       "  </thead>\n",
       "  <tbody>\n",
       "    <tr>\n",
       "      <th>80</th>\n",
       "      <td>-1.631218</td>\n",
       "    </tr>\n",
       "    <tr>\n",
       "      <th>84</th>\n",
       "      <td>-2.012432</td>\n",
       "    </tr>\n",
       "    <tr>\n",
       "      <th>33</th>\n",
       "      <td>0.697926</td>\n",
       "    </tr>\n",
       "    <tr>\n",
       "      <th>81</th>\n",
       "      <td>-1.638974</td>\n",
       "    </tr>\n",
       "    <tr>\n",
       "      <th>93</th>\n",
       "      <td>-1.749396</td>\n",
       "    </tr>\n",
       "    <tr>\n",
       "      <th>17</th>\n",
       "      <td>-0.694504</td>\n",
       "    </tr>\n",
       "    <tr>\n",
       "      <th>36</th>\n",
       "      <td>0.670111</td>\n",
       "    </tr>\n",
       "    <tr>\n",
       "      <th>82</th>\n",
       "      <td>0.882042</td>\n",
       "    </tr>\n",
       "    <tr>\n",
       "      <th>69</th>\n",
       "      <td>0.436395</td>\n",
       "    </tr>\n",
       "    <tr>\n",
       "      <th>65</th>\n",
       "      <td>-0.375313</td>\n",
       "    </tr>\n",
       "    <tr>\n",
       "      <th>92</th>\n",
       "      <td>-1.201768</td>\n",
       "    </tr>\n",
       "    <tr>\n",
       "      <th>39</th>\n",
       "      <td>-0.606274</td>\n",
       "    </tr>\n",
       "    <tr>\n",
       "      <th>56</th>\n",
       "      <td>-0.989999</td>\n",
       "    </tr>\n",
       "    <tr>\n",
       "      <th>52</th>\n",
       "      <td>-0.948637</td>\n",
       "    </tr>\n",
       "    <tr>\n",
       "      <th>51</th>\n",
       "      <td>-0.658947</td>\n",
       "    </tr>\n",
       "    <tr>\n",
       "      <th>32</th>\n",
       "      <td>1.325972</td>\n",
       "    </tr>\n",
       "    <tr>\n",
       "      <th>31</th>\n",
       "      <td>1.996154</td>\n",
       "    </tr>\n",
       "    <tr>\n",
       "      <th>44</th>\n",
       "      <td>0.251286</td>\n",
       "    </tr>\n",
       "    <tr>\n",
       "      <th>78</th>\n",
       "      <td>-2.459454</td>\n",
       "    </tr>\n",
       "    <tr>\n",
       "      <th>10</th>\n",
       "      <td>1.236947</td>\n",
       "    </tr>\n",
       "  </tbody>\n",
       "</table>\n",
       "</div>"
      ],
      "text/plain": [
       "      Height\n",
       "80 -1.631218\n",
       "84 -2.012432\n",
       "33  0.697926\n",
       "81 -1.638974\n",
       "93 -1.749396\n",
       "17 -0.694504\n",
       "36  0.670111\n",
       "82  0.882042\n",
       "69  0.436395\n",
       "65 -0.375313\n",
       "92 -1.201768\n",
       "39 -0.606274\n",
       "56 -0.989999\n",
       "52 -0.948637\n",
       "51 -0.658947\n",
       "32  1.325972\n",
       "31  1.996154\n",
       "44  0.251286\n",
       "78 -2.459454\n",
       "10  1.236947"
      ]
     },
     "execution_count": 233,
     "metadata": {},
     "output_type": "execute_result"
    }
   ],
   "source": [
    "test_x = (test_x - x_mean) / x_std\n",
    "test_x"
   ]
  },
  {
   "cell_type": "code",
   "execution_count": 234,
   "metadata": {},
   "outputs": [
    {
     "data": {
      "text/html": [
       "<div>\n",
       "<style scoped>\n",
       "    .dataframe tbody tr th:only-of-type {\n",
       "        vertical-align: middle;\n",
       "    }\n",
       "\n",
       "    .dataframe tbody tr th {\n",
       "        vertical-align: top;\n",
       "    }\n",
       "\n",
       "    .dataframe thead th {\n",
       "        text-align: right;\n",
       "    }\n",
       "</style>\n",
       "<table border=\"1\" class=\"dataframe\">\n",
       "  <thead>\n",
       "    <tr style=\"text-align: right;\">\n",
       "      <th></th>\n",
       "      <th>intercept</th>\n",
       "      <th>Height</th>\n",
       "    </tr>\n",
       "  </thead>\n",
       "  <tbody>\n",
       "    <tr>\n",
       "      <th>80</th>\n",
       "      <td>1</td>\n",
       "      <td>-1.631218</td>\n",
       "    </tr>\n",
       "    <tr>\n",
       "      <th>84</th>\n",
       "      <td>1</td>\n",
       "      <td>-2.012432</td>\n",
       "    </tr>\n",
       "    <tr>\n",
       "      <th>33</th>\n",
       "      <td>1</td>\n",
       "      <td>0.697926</td>\n",
       "    </tr>\n",
       "    <tr>\n",
       "      <th>81</th>\n",
       "      <td>1</td>\n",
       "      <td>-1.638974</td>\n",
       "    </tr>\n",
       "    <tr>\n",
       "      <th>93</th>\n",
       "      <td>1</td>\n",
       "      <td>-1.749396</td>\n",
       "    </tr>\n",
       "    <tr>\n",
       "      <th>17</th>\n",
       "      <td>1</td>\n",
       "      <td>-0.694504</td>\n",
       "    </tr>\n",
       "    <tr>\n",
       "      <th>36</th>\n",
       "      <td>1</td>\n",
       "      <td>0.670111</td>\n",
       "    </tr>\n",
       "    <tr>\n",
       "      <th>82</th>\n",
       "      <td>1</td>\n",
       "      <td>0.882042</td>\n",
       "    </tr>\n",
       "    <tr>\n",
       "      <th>69</th>\n",
       "      <td>1</td>\n",
       "      <td>0.436395</td>\n",
       "    </tr>\n",
       "    <tr>\n",
       "      <th>65</th>\n",
       "      <td>1</td>\n",
       "      <td>-0.375313</td>\n",
       "    </tr>\n",
       "    <tr>\n",
       "      <th>92</th>\n",
       "      <td>1</td>\n",
       "      <td>-1.201768</td>\n",
       "    </tr>\n",
       "    <tr>\n",
       "      <th>39</th>\n",
       "      <td>1</td>\n",
       "      <td>-0.606274</td>\n",
       "    </tr>\n",
       "    <tr>\n",
       "      <th>56</th>\n",
       "      <td>1</td>\n",
       "      <td>-0.989999</td>\n",
       "    </tr>\n",
       "    <tr>\n",
       "      <th>52</th>\n",
       "      <td>1</td>\n",
       "      <td>-0.948637</td>\n",
       "    </tr>\n",
       "    <tr>\n",
       "      <th>51</th>\n",
       "      <td>1</td>\n",
       "      <td>-0.658947</td>\n",
       "    </tr>\n",
       "    <tr>\n",
       "      <th>32</th>\n",
       "      <td>1</td>\n",
       "      <td>1.325972</td>\n",
       "    </tr>\n",
       "    <tr>\n",
       "      <th>31</th>\n",
       "      <td>1</td>\n",
       "      <td>1.996154</td>\n",
       "    </tr>\n",
       "    <tr>\n",
       "      <th>44</th>\n",
       "      <td>1</td>\n",
       "      <td>0.251286</td>\n",
       "    </tr>\n",
       "    <tr>\n",
       "      <th>78</th>\n",
       "      <td>1</td>\n",
       "      <td>-2.459454</td>\n",
       "    </tr>\n",
       "    <tr>\n",
       "      <th>10</th>\n",
       "      <td>1</td>\n",
       "      <td>1.236947</td>\n",
       "    </tr>\n",
       "  </tbody>\n",
       "</table>\n",
       "</div>"
      ],
      "text/plain": [
       "    intercept    Height\n",
       "80          1 -1.631218\n",
       "84          1 -2.012432\n",
       "33          1  0.697926\n",
       "81          1 -1.638974\n",
       "93          1 -1.749396\n",
       "17          1 -0.694504\n",
       "36          1  0.670111\n",
       "82          1  0.882042\n",
       "69          1  0.436395\n",
       "65          1 -0.375313\n",
       "92          1 -1.201768\n",
       "39          1 -0.606274\n",
       "56          1 -0.989999\n",
       "52          1 -0.948637\n",
       "51          1 -0.658947\n",
       "32          1  1.325972\n",
       "31          1  1.996154\n",
       "44          1  0.251286\n",
       "78          1 -2.459454\n",
       "10          1  1.236947"
      ]
     },
     "execution_count": 234,
     "metadata": {},
     "output_type": "execute_result"
    }
   ],
   "source": [
    "test_x[\"intercept\"] = 1\n",
    "test_x = test_x[[\"intercept\"] + predictors]\n",
    "\n",
    "test_x"
   ]
  },
  {
   "cell_type": "code",
   "execution_count": 235,
   "metadata": {},
   "outputs": [
    {
     "name": "stdout",
     "output_type": "stream",
     "text": [
      "Test RMSE: 6.4670182143663615\n"
     ]
    }
   ],
   "source": [
    "y_test_pred = test_x @ B\n",
    "rmse_test = np.sqrt(mean_squared_error(test[target], y_test_pred))\n",
    "print(f\"Test RMSE: {rmse_test}\")"
   ]
  },
  {
   "cell_type": "code",
   "execution_count": 236,
   "metadata": {},
   "outputs": [
    {
     "data": {
      "text/plain": [
       "<matplotlib.legend.Legend at 0x11c2a2fc0>"
      ]
     },
     "execution_count": 236,
     "metadata": {},
     "output_type": "execute_result"
    },
    {
     "data": {
      "image/png": "[encoded data removed]",
      "text/plain": [
       "<Figure size 640x480 with 1 Axes>"
      ]
     },
     "metadata": {},
     "output_type": "display_data"
    }
   ],
   "source": [
    "plt.title('Train and Test Data with Prediction')\n",
    "plt.xlabel('Height')\n",
    "plt.ylabel('Weight')\n",
    "plt.scatter(train[predictors], y_train, color='blue', label='Training data')\n",
    "plt.scatter(test[predictors], test[target], color='green', label='Testing data')\n",
    "\n",
    "plt.plot(test[predictors], y_test_pred, color='red', label='Model prediction')\n",
    "plt.legend()"
   ]
  },
  {
   "cell_type": "markdown",
   "metadata": {},
   "source": [
    "## def ridege regression สำหรับการ fit โมเดล"
   ]
  },
  {
   "cell_type": "code",
   "execution_count": 237,
   "metadata": {},
   "outputs": [],
   "source": [
    "def ridge_fit(train,predictors,target,A_Lambda):\n",
    "    X_train = train[predictors].copy()\n",
    "    y_train = train[[target]].copy()\n",
    "    \n",
    "    x_mean = X_train.mean()\n",
    "    x_std = X_train.std()\n",
    "    \n",
    "    X_train = (X_train - x_mean) / x_std\n",
    "    X_train[\"intercept\"] = 1\n",
    "    X_train = X_train[[\"intercept\"] + predictors]\n",
    "\n",
    "    penalty = A_Lambda * np.identity(X_train.shape[1])\n",
    "    penalty[0][0] = 0\n",
    "\n",
    "    B = np.linalg.inv(X_train.T @ X_train + penalty) @ X_train.T @ y_train\n",
    "    B.index = [\"intercept\",\"Height\"]\n",
    "    return B, x_mean, x_std\n"
   ]
  },
  {
   "cell_type": "markdown",
   "metadata": {},
   "source": [
    "## def pred ridege สำหรับการทำนาย"
   ]
  },
  {
   "cell_type": "code",
   "execution_count": 238,
   "metadata": {},
   "outputs": [],
   "source": [
    "def ridge_predict(test, predictors, x_mean, x_std, B):\n",
    "    test_X = test[predictors]\n",
    "    test_X = (test_X - x_mean) / x_std\n",
    "    test_X[\"intercept\"] = 1\n",
    "    test_X = test_X[[\"intercept\"] + predictors]\n",
    "\n",
    "    y_test_pred = test_X @ B\n",
    "    return y_test_pred"
   ]
  },
  {
   "cell_type": "code",
   "execution_count": 239,
   "metadata": {},
   "outputs": [
    {
     "name": "stdout",
     "output_type": "stream",
     "text": [
      "train_errors = \n",
      "[np.float64(5.531751567135983), np.float64(5.531776740886828), np.float64(5.5342367288006695), np.float64(5.729092797965858), np.float64(9.248624980871451), np.float64(13.483006158869271)],\n",
      " test_errors = \n",
      "[np.float64(6.629498737449384), np.float64(6.621479049715682), np.float64(6.544823410230404), np.float64(6.08914901220001), np.float64(9.052301148616241), np.float64(14.345162034835278)]\n"
     ]
    }
   ],
   "source": [
    "#errors = []\n",
    "A_Lambda = [0.01, 0.1, 1, 10, 100, 1000]\n",
    "train_errors = []\n",
    "test_errors = []\n",
    "y_pred_out = []\n",
    "\n",
    "# for alpha in A_Lambda:\n",
    "#     B, x_mean, x_std = ridge_fit(train, predictors, target, alpha)\n",
    "#     y_test_pred = ridge_predict(test, predictors, x_mean, x_std, B)\n",
    "    \n",
    "#     errors.append(np.sqrt(mean_squared_error(test[target], y_test_pred)))\n",
    "\n",
    "# errors\n",
    "for alpha in A_Lambda:\n",
    "    B, x_mean, x_std = ridge_fit(train, predictors, target, alpha)\n",
    "    y_train_pred = ridge_predict(train, predictors, x_mean, x_std, B)\n",
    "    y_test_pred = ridge_predict(test, predictors, x_mean, x_std, B)\n",
    "    \n",
    "    train_rmse = np.sqrt(mean_squared_error(train[target], y_train_pred))\n",
    "    test_rmse = np.sqrt(mean_squared_error(test[target], y_test_pred))\n",
    "    \n",
    "    train_errors.append(train_rmse)\n",
    "    test_errors.append(test_rmse)\n",
    "    y_pred_out.append(y_train_pred)\n",
    "\n",
    "print(f'train_errors = \\n{train_errors},\\n test_errors = \\n{test_errors}')\n",
    "    \n"
   ]
  },
  {
   "cell_type": "code",
   "execution_count": 244,
   "metadata": {},
   "outputs": [
    {
     "data": {
      "text/plain": [
       "<matplotlib.legend.Legend at 0x11ac02210>"
      ]
     },
     "execution_count": 244,
     "metadata": {},
     "output_type": "execute_result"
    },
    {
     "data": {
      "image/png": "[encoded data removed]",
      "text/plain": [
       "<Figure size 640x480 with 1 Axes>"
      ]
     },
     "metadata": {},
     "output_type": "display_data"
    }
   ],
   "source": [
    "plt.plot(A_Lambda, train_errors, color='blue',label='Train RMSE', marker='o')\n",
    "plt.plot(A_Lambda, test_errors, color='red',label='Test RMSE', marker='o')\n",
    "plt.xscale('log')\n",
    "plt.xlabel('Lambda (log scale)')\n",
    "plt.ylabel('RMSE')\n",
    "plt.title('RMSE vs Model Complexity (Lambda)')\n",
    "plt.legend()"
   ]
  },
  {
   "cell_type": "code",
   "execution_count": 241,
   "metadata": {},
   "outputs": [
    {
     "data": {
      "text/plain": [
       "<matplotlib.legend.Legend at 0x11f0a39e0>"
      ]
     },
     "execution_count": 241,
     "metadata": {},
     "output_type": "execute_result"
    },
    {
     "data": {
      "image/png": "[encoded data removed]",
      "text/plain": [
       "<Figure size 640x480 with 1 Axes>"
      ]
     },
     "metadata": {},
     "output_type": "display_data"
    }
   ],
   "source": [
    "\n",
    "\n",
    "plt.scatter(train[predictors], train[target], color='lightblue', label='Train data', alpha=0.5)\n",
    "plt.scatter(test[predictors], test[target], color='blue', label='Test data', alpha=0.5)\n",
    "plt.plot(train[predictors], y_pred_out[2], color='yellow', label= f'Lambda = {A_Lambda[2]}')\n",
    "plt.plot(train[predictors], y_pred_out[3], color='green', label= f'Lambda = {A_Lambda[3]}')\n",
    "plt.plot(train[predictors], y_pred_out[4], color='orange', label=f'Lambda = {A_Lambda[4]}')\n",
    "plt.plot(train[predictors], y_pred_out[5], color='red', label=f'Lambda = {A_Lambda[5]}')\n",
    "\n",
    "\n",
    "plt.xlabel('Height')\n",
    "plt.ylabel('Weight')\n",
    "plt.title('Ridge Regression Predictions')\n",
    "plt.legend()\n"
   ]
  }
 ],
 "metadata": {
  "kernelspec": {
   "display_name": ".venv",
   "language": "python",
   "name": "python3"
  },
  "language_info": {
   "codemirror_mode": {
    "name": "ipython",
    "version": 3
   },
   "file_extension": ".py",
   "mimetype": "text/x-python",
   "name": "python",
   "nbconvert_exporter": "python",
   "pygments_lexer": "ipython3",
   "version": "3.12.3"
  }
 },
 "nbformat": 4,
 "nbformat_minor": 2
}
