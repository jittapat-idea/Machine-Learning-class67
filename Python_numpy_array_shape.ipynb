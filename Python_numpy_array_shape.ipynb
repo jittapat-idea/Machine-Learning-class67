{
 "cells": [
  {
   "cell_type": "markdown",
   "metadata": {},
   "source": [
    "![image shape in numpy](https://miro.medium.com/v2/resize:fit:4024/1*lFZzE9PgKTRR8jlFI4EUtw.png)"
   ]
  },
  {
   "cell_type": "markdown",
   "metadata": {},
   "source": [
    "![ex image axiz](https://nustat.github.io/DataScience_Intro_python/Datasets/numpy_image.png)"
   ]
  }
 ],
 "metadata": {
  "language_info": {
   "name": "python"
  }
 },
 "nbformat": 4,
 "nbformat_minor": 2
}
